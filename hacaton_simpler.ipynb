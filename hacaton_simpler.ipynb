{
 "cells": [
  {
   "cell_type": "code",
   "execution_count": 13,
   "metadata": {},
   "outputs": [
    {
     "name": "stdout",
     "output_type": "stream",
     "text": [
      "        Материал  Класс  Кредитор      price\n",
      "0              0     36       408     137.00\n",
      "1              0     36       586     567.00\n",
      "2              0     36       592     619.76\n",
      "3              0     36        24     531.00\n",
      "4              0     36       586     640.30\n",
      "...          ...    ...       ...        ...\n",
      "113603     10690      1       690   12234.00\n",
      "113604     10690      1       756   11780.00\n",
      "113605     10691     28       854   32000.00\n",
      "113606     10692     12       854     249.17\n",
      "113607     10693     36         0  186374.00\n",
      "\n",
      "[113608 rows x 4 columns]\n",
      "        Unnamed: 0        Лот ID      Кредитор  Сумма во ВВ      Материал  \\\n",
      "0                0  1.000005e+11  7.542200e+04       137.00       1118280   \n",
      "1                1  1.000005e+11  9.429300e+04       567.00       1118280   \n",
      "2                4  1.000005e+11  9.450100e+04       619.76       1118280   \n",
      "3                5  1.000006e+11  2.328800e+04       531.00       1118280   \n",
      "4                8  1.000006e+11  9.429300e+04       640.30       1118280   \n",
      "...            ...           ...           ...          ...           ...   \n",
      "113603      339958  1.000008e+11  1.047350e+05     12234.00  770001797232   \n",
      "113604      339959  1.000008e+11  1.128480e+05     11780.00  770001797232   \n",
      "113605      339960  1.000008e+11  7.175110e+09     32000.00  770001800487   \n",
      "113606      339963  1.000008e+11  7.175110e+09       249.17  770001801168   \n",
      "113607      339966  1.000006e+11  5.900000e+01    186374.00  980004700197   \n",
      "\n",
      "                                 Краткий текст  Влт  Курс  \\\n",
      "0       Площадка самоклеящаяся Hyperline HW-3A  RUB   1.0   \n",
      "1       Площадка самоклеящаяся Hyperline HW-3A  RUB   1.0   \n",
      "2       Площадка самоклеящаяся Hyperline HW-3A  RUB   1.0   \n",
      "3       Площадка самоклеящаяся Hyperline HW-3A  RUB   1.0   \n",
      "4       Площадка самоклеящаяся Hyperline HW-3A  RUB   1.0   \n",
      "...                                        ...  ...   ...   \n",
      "113603                Муфта 35КНТпОН-2 150/240  RUB   1.0   \n",
      "113604                Муфта 35КНТпОН-2 150/240  RUB   1.0   \n",
      "113605           Кабель КПСнг(А)-FRLS 1х2х0,75  RUB   1.0   \n",
      "113606                     Кабель DEXP/1041894  RUB   1.0   \n",
      "113607                        ПРОВОД АС-120/19  RUB   1.0   \n",
      "\n",
      "                       Краткий текст материала      Класс  \\\n",
      "0       Площадка самоклеящаяся Hyperline HW-3A      G2170   \n",
      "1       Площадка самоклеящаяся Hyperline HW-3A      G2170   \n",
      "2       Площадка самоклеящаяся Hyperline HW-3A      G2170   \n",
      "3       Площадка самоклеящаяся Hyperline HW-3A      G2170   \n",
      "4       Площадка самоклеящаяся Hyperline HW-3A      G2170   \n",
      "...                                        ...        ...   \n",
      "113603                Муфта 35КНТпОН-2 150/240  G21040101   \n",
      "113604                Муфта 35КНТпОН-2 150/240  G21040101   \n",
      "113605           Кабель КПСнг(А)-FRLS 1х2х0,75      G2106   \n",
      "113606                     Кабель DEXP/1041894  G21050301   \n",
      "113607                        ПРОВОД АС-120/19      G2170   \n",
      "\n",
      "                                       Название  cluster  \\\n",
      "0        ПРОДУКЦИЯ КАБЕЛЬНАЯ НЕ НОРМАЛИЗОВАННАЯ       37   \n",
      "1        ПРОДУКЦИЯ КАБЕЛЬНАЯ НЕ НОРМАЛИЗОВАННАЯ       37   \n",
      "2        ПРОДУКЦИЯ КАБЕЛЬНАЯ НЕ НОРМАЛИЗОВАННАЯ       37   \n",
      "3        ПРОДУКЦИЯ КАБЕЛЬНАЯ НЕ НОРМАЛИЗОВАННАЯ       83   \n",
      "4        ПРОДУКЦИЯ КАБЕЛЬНАЯ НЕ НОРМАЛИЗОВАННАЯ       37   \n",
      "...                                         ...      ...   \n",
      "113603  Муфты для силовых и контрольных кабелей       13   \n",
      "113604  Муфты для силовых и контрольных кабелей       13   \n",
      "113605            Кабели монтажные и управления       41   \n",
      "113606                               Витая пара       13   \n",
      "113607   ПРОДУКЦИЯ КАБЕЛЬНАЯ НЕ НОРМАЛИЗОВАННАЯ       12   \n",
      "\n",
      "                Материал_Класс  pairs_per_clust  pairs_by_cred  perc_cov  \n",
      "0                1118280-G2170              151              1  0.662252  \n",
      "1                1118280-G2170              151              5  3.311258  \n",
      "2                1118280-G2170              151              1  0.662252  \n",
      "3                1118280-G2170              285              8  2.807018  \n",
      "4                1118280-G2170              151              5  3.311258  \n",
      "...                        ...              ...            ...       ...  \n",
      "113603  770001797232-G21040101              519             33  6.358382  \n",
      "113604  770001797232-G21040101              519             41  7.899807  \n",
      "113605      770001800487-G2106              296              2  0.675676  \n",
      "113606  770001801168-G21050301              519              3  0.578035  \n",
      "113607      980004700197-G2170              436              1  0.229358  \n",
      "\n",
      "[113608 rows x 16 columns]\n",
      "           cov_cat  num_creditors\n",
      "0  50% < and < 80%       1.361111\n",
      "1            ≤ 50%      37.434343\n",
      "2            ≥ 80%       1.200000\n",
      "Number of lots: 100\n",
      "Average price per lot:\n",
      "1299564362.9169\n",
      "MQ metric is: 0.9896415400021213\n",
      "MS metric is: 2.2268550971023715\n"
     ]
    }
   ],
   "source": [
    "import numpy as np\n",
    "import pandas as pd\n",
    "from sklearn.cluster import KMeans\n",
    "from sklearn.preprocessing import StandardScaler\n",
    "from sklearn.preprocessing import LabelEncoder\n",
    "\n",
    "file_path = 'processed_Исторические_данные_по_офертам_поставщиков_на_лот.csv'\n",
    "data = pd.read_csv(file_path)\n",
    "\n",
    "manual_lot_count = 4996\n",
    "manual_avg_price = 910874\n",
    "\n",
    "# Step 1: Preprocess the data\n",
    "label_encoder = LabelEncoder()\n",
    "data_preprocessed = pd.DataFrame()\n",
    "# If there are categorical variables, you might want to one-hot encode them\n",
    "# data_preprocessed = pd.get_dummies(data, columns=['Материал', 'Класс', 'Кредитор'], drop_first=True)\n",
    "data_preprocessed['Материал'] = label_encoder.fit_transform(data['Материал'])\n",
    "data_preprocessed['Класс'] = label_encoder.fit_transform(data['Класс'])\n",
    "data_preprocessed['Кредитор'] = label_encoder.fit_transform(data['Кредитор'])\n",
    "data_preprocessed['price'] = data['Сумма во ВВ'].copy()\n",
    "print(data_preprocessed)\n",
    "\n",
    "# Standardize the data to have a mean of 0 and variance of 1\n",
    "scaler = StandardScaler()\n",
    "data_scaled = scaler.fit_transform(data_preprocessed)\n",
    "\n",
    "# Step 2: Apply K-Means clustering\n",
    "k = 100  # Choose the number of clusters (lots)\n",
    "kmeans = KMeans(n_clusters=k, random_state=42)\n",
    "data['cluster'] = kmeans.fit_predict(data_scaled)\n",
    "\n",
    "# data['Материал_Класс'] = data['Материал'].astype(str) + '-' + data['Класс'].astype(str)\n",
    "data['Материал_Класс'] = data['Класс'].astype(str)\n",
    "\n",
    "# Step 2: Add a column for the number of unique \"Материал_Класс\" pairs in each cluster\n",
    "data['pairs_per_clust'] = data.groupby('cluster')['Материал_Класс'].transform('nunique')\n",
    "\n",
    "# Step 3: Add a column to count the number of unique \"Материал_Класс\" pairs covered by each creditor in each cluster\n",
    "data['pairs_by_cred'] = data.groupby(['Кредитор', 'cluster'])['Материал_Класс'].transform('nunique')\n",
    "\n",
    "# Step 4: Calculate the percentage of pairs each creditor covers in each cluster\n",
    "data['perc_cov'] = (data['pairs_by_cred'] / data['pairs_per_clust']) * 100\n",
    "\n",
    "def categorize_coverage(percentage):\n",
    "    if 80 > percentage >= 50:\n",
    "        return '≥ 50%'\n",
    "    elif 100 > percentage >= 80:\n",
    "        return '≥ 80%'\n",
    "    elif percentage == 100:\n",
    "        return '100%'\n",
    "\n",
    "data['cov_cat'] = data['perc_cov'].apply(categorize_coverage)\n",
    "\n",
    "# Group by cluster and calculate the number of creditors in each category\n",
    "creditor_counts_by_category = data.groupby(['cluster', 'cov_cat'])['Кредитор'].nunique().reset_index()\n",
    "cred_count = data.groupby(['cluster', 'cov_cat'])['Кредитор'].transform('nunique')\n",
    "data['num_creditors'] = cred_count\n",
    "creditor_counts_by_category.columns = ['cluster', 'cov_cat', 'num_creditors']\n",
    "\n",
    "# Calculate the average number of creditors per cluster in each coverage category\n",
    "avg_creditors_per_category = creditor_counts_by_category.groupby('cov_cat')['num_creditors'].mean().reset_index()\n",
    "\n",
    "print(avg_creditors_per_category)\n",
    "\n",
    "# Extract values and store them in separate variables\n",
    "average_creditors_le_50 = avg_creditors_per_category.loc[\n",
    "    (avg_creditors_per_category['cov_cat'] == '≥ 50%') | \n",
    "    (avg_creditors_per_category['cov_cat'] == '≥ 80%') | \n",
    "    (avg_creditors_per_category['cov_cat'] == '100%'), \n",
    "    'num_creditors'\n",
    "    ].values[0]\n",
    "average_creditors_50_to_80 = avg_creditors_per_category.loc[\n",
    "    (avg_creditors_per_category['cov_cat'] == '≥ 80%') |\n",
    "    (avg_creditors_per_category['cov_cat'] == '100%'),\n",
    "    'num_creditors'\n",
    "    ].values[0]\n",
    "average_creditors_ge_80 = avg_creditors_per_category.loc[avg_creditors_per_category['cov_cat'] == '100%', 'num_creditors'].values[0]\n",
    "average_creditors_per_lot = data.groupby('cluster')['Кредитор'].nunique().mean()\n",
    "\n",
    "# Step 3: Evaluate the result\n",
    "# Number of lots\n",
    "num_lots = data['cluster'].nunique()\n",
    "print(f'Number of lots: {num_lots}')\n",
    "\n",
    "# Calculate the average price per lot\n",
    "average_price_per_lot = data.groupby('cluster')['Сумма во ВВ'].sum().mean()\n",
    "print(\"Average price per lot:\")\n",
    "print(average_price_per_lot)\n",
    "\n",
    "MQ = 0.5 * ((1 - num_lots / manual_lot_count) + (1 - manual_avg_price / average_price_per_lot))\n",
    "\n",
    "MS = (2 * average_creditors_le_50 + 3 * average_creditors_50_to_80 + 4 * average_creditors_ge_80) / average_creditors_per_lot\n",
    "\n",
    "print(f\"MQ metric is: {MQ}\")\n",
    "print(f\"MS metric is: {MS}\")\n"
   ]
  },
  {
   "cell_type": "code",
   "execution_count": 6,
   "metadata": {},
   "outputs": [
    {
     "data": {
      "text/html": [
       "<div>\n",
       "<style scoped>\n",
       "    .dataframe tbody tr th:only-of-type {\n",
       "        vertical-align: middle;\n",
       "    }\n",
       "\n",
       "    .dataframe tbody tr th {\n",
       "        vertical-align: top;\n",
       "    }\n",
       "\n",
       "    .dataframe thead th {\n",
       "        text-align: right;\n",
       "    }\n",
       "</style>\n",
       "<table border=\"1\" class=\"dataframe\">\n",
       "  <thead>\n",
       "    <tr style=\"text-align: right;\">\n",
       "      <th></th>\n",
       "      <th>Unnamed: 0</th>\n",
       "      <th>Лот ID</th>\n",
       "      <th>Кредитор</th>\n",
       "      <th>Сумма во ВВ</th>\n",
       "      <th>Материал</th>\n",
       "      <th>Краткий текст</th>\n",
       "      <th>Влт</th>\n",
       "      <th>Курс</th>\n",
       "      <th>Краткий текст материала</th>\n",
       "      <th>Класс</th>\n",
       "      <th>Название</th>\n",
       "      <th>cluster</th>\n",
       "      <th>Материал_Класс</th>\n",
       "      <th>pairs_per_clust</th>\n",
       "      <th>pairs_by_cred</th>\n",
       "      <th>perc_cov</th>\n",
       "    </tr>\n",
       "  </thead>\n",
       "  <tbody>\n",
       "    <tr>\n",
       "      <th>1</th>\n",
       "      <td>1</td>\n",
       "      <td>1.000005e+11</td>\n",
       "      <td>94293.0</td>\n",
       "      <td>567.00</td>\n",
       "      <td>1118280</td>\n",
       "      <td>Площадка самоклеящаяся Hyperline HW-3A</td>\n",
       "      <td>RUB</td>\n",
       "      <td>1.0</td>\n",
       "      <td>Площадка самоклеящаяся Hyperline HW-3A</td>\n",
       "      <td>G2170</td>\n",
       "      <td>ПРОДУКЦИЯ КАБЕЛЬНАЯ НЕ НОРМАЛИЗОВАННАЯ</td>\n",
       "      <td>591</td>\n",
       "      <td>1118280-G2170</td>\n",
       "      <td>7</td>\n",
       "      <td>1</td>\n",
       "      <td>14.285714</td>\n",
       "    </tr>\n",
       "    <tr>\n",
       "      <th>2</th>\n",
       "      <td>4</td>\n",
       "      <td>1.000005e+11</td>\n",
       "      <td>94501.0</td>\n",
       "      <td>619.76</td>\n",
       "      <td>1118280</td>\n",
       "      <td>Площадка самоклеящаяся Hyperline HW-3A</td>\n",
       "      <td>RUB</td>\n",
       "      <td>1.0</td>\n",
       "      <td>Площадка самоклеящаяся Hyperline HW-3A</td>\n",
       "      <td>G2170</td>\n",
       "      <td>ПРОДУКЦИЯ КАБЕЛЬНАЯ НЕ НОРМАЛИЗОВАННАЯ</td>\n",
       "      <td>591</td>\n",
       "      <td>1118280-G2170</td>\n",
       "      <td>7</td>\n",
       "      <td>1</td>\n",
       "      <td>14.285714</td>\n",
       "    </tr>\n",
       "    <tr>\n",
       "      <th>4</th>\n",
       "      <td>8</td>\n",
       "      <td>1.000006e+11</td>\n",
       "      <td>94293.0</td>\n",
       "      <td>640.30</td>\n",
       "      <td>1118280</td>\n",
       "      <td>Площадка самоклеящаяся Hyperline HW-3A</td>\n",
       "      <td>RUB</td>\n",
       "      <td>1.0</td>\n",
       "      <td>Площадка самоклеящаяся Hyperline HW-3A</td>\n",
       "      <td>G2170</td>\n",
       "      <td>ПРОДУКЦИЯ КАБЕЛЬНАЯ НЕ НОРМАЛИЗОВАННАЯ</td>\n",
       "      <td>591</td>\n",
       "      <td>1118280-G2170</td>\n",
       "      <td>7</td>\n",
       "      <td>1</td>\n",
       "      <td>14.285714</td>\n",
       "    </tr>\n",
       "    <tr>\n",
       "      <th>11</th>\n",
       "      <td>22</td>\n",
       "      <td>1.000007e+11</td>\n",
       "      <td>87239.0</td>\n",
       "      <td>0.00</td>\n",
       "      <td>1121640</td>\n",
       "      <td>Эмаль ПФ-115 желтая с.1</td>\n",
       "      <td>NaN</td>\n",
       "      <td>1.0</td>\n",
       "      <td>Кабель КВВГ 7х1 б/у</td>\n",
       "      <td>G2160</td>\n",
       "      <td>Кабель б/у, провода б/у</td>\n",
       "      <td>591</td>\n",
       "      <td>1121640-G2160</td>\n",
       "      <td>7</td>\n",
       "      <td>1</td>\n",
       "      <td>14.285714</td>\n",
       "    </tr>\n",
       "    <tr>\n",
       "      <th>15</th>\n",
       "      <td>34</td>\n",
       "      <td>1.000007e+11</td>\n",
       "      <td>87239.0</td>\n",
       "      <td>141.00</td>\n",
       "      <td>1121640</td>\n",
       "      <td>Эмаль ПФ-115 желтая с.1</td>\n",
       "      <td>RUB</td>\n",
       "      <td>1.0</td>\n",
       "      <td>Кабель КВВГ 7х1 б/у</td>\n",
       "      <td>G2160</td>\n",
       "      <td>Кабель б/у, провода б/у</td>\n",
       "      <td>591</td>\n",
       "      <td>1121640-G2160</td>\n",
       "      <td>7</td>\n",
       "      <td>1</td>\n",
       "      <td>14.285714</td>\n",
       "    </tr>\n",
       "    <tr>\n",
       "      <th>16</th>\n",
       "      <td>37</td>\n",
       "      <td>1.000007e+11</td>\n",
       "      <td>87239.0</td>\n",
       "      <td>130.00</td>\n",
       "      <td>1121640</td>\n",
       "      <td>Эмаль ПФ-115 желтая с.1</td>\n",
       "      <td>RUB</td>\n",
       "      <td>1.0</td>\n",
       "      <td>Кабель КВВГ 7х1 б/у</td>\n",
       "      <td>G2160</td>\n",
       "      <td>Кабель б/у, провода б/у</td>\n",
       "      <td>591</td>\n",
       "      <td>1121640-G2160</td>\n",
       "      <td>7</td>\n",
       "      <td>1</td>\n",
       "      <td>14.285714</td>\n",
       "    </tr>\n",
       "    <tr>\n",
       "      <th>836</th>\n",
       "      <td>2262</td>\n",
       "      <td>1.000005e+11</td>\n",
       "      <td>91364.0</td>\n",
       "      <td>1950.00</td>\n",
       "      <td>1167016</td>\n",
       "      <td>Очиститель Scotchcast 3M/4413-S</td>\n",
       "      <td>RUB</td>\n",
       "      <td>1.0</td>\n",
       "      <td>Очиститель Scotchcast 3M/4413-S</td>\n",
       "      <td>G2170</td>\n",
       "      <td>ПРОДУКЦИЯ КАБЕЛЬНАЯ НЕ НОРМАЛИЗОВАННАЯ</td>\n",
       "      <td>591</td>\n",
       "      <td>1167016-G2170</td>\n",
       "      <td>7</td>\n",
       "      <td>1</td>\n",
       "      <td>14.285714</td>\n",
       "    </tr>\n",
       "    <tr>\n",
       "      <th>6148</th>\n",
       "      <td>16909</td>\n",
       "      <td>1.000007e+11</td>\n",
       "      <td>93259.0</td>\n",
       "      <td>36900.00</td>\n",
       "      <td>770000082380</td>\n",
       "      <td>Набор инструментов 158пр Hans/TK-158V</td>\n",
       "      <td>RUB</td>\n",
       "      <td>1.0</td>\n",
       "      <td>Кабель MIC5.K микрофонный RapcoHorizon</td>\n",
       "      <td>G2170</td>\n",
       "      <td>ПРОДУКЦИЯ КАБЕЛЬНАЯ НЕ НОРМАЛИЗОВАННАЯ</td>\n",
       "      <td>591</td>\n",
       "      <td>770000082380-G2170</td>\n",
       "      <td>7</td>\n",
       "      <td>1</td>\n",
       "      <td>14.285714</td>\n",
       "    </tr>\n",
       "    <tr>\n",
       "      <th>6542</th>\n",
       "      <td>17914</td>\n",
       "      <td>1.000007e+11</td>\n",
       "      <td>92855.0</td>\n",
       "      <td>66.95</td>\n",
       "      <td>770000096010</td>\n",
       "      <td>Карман самокл. Комус/166549</td>\n",
       "      <td>RUB</td>\n",
       "      <td>1.0</td>\n",
       "      <td>Нагреватель ILL312CF Quintex</td>\n",
       "      <td>G2110</td>\n",
       "      <td>Кабели греющие</td>\n",
       "      <td>591</td>\n",
       "      <td>770000096010-G2110</td>\n",
       "      <td>7</td>\n",
       "      <td>1</td>\n",
       "      <td>14.285714</td>\n",
       "    </tr>\n",
       "    <tr>\n",
       "      <th>6543</th>\n",
       "      <td>17915</td>\n",
       "      <td>1.000007e+11</td>\n",
       "      <td>92855.0</td>\n",
       "      <td>65.57</td>\n",
       "      <td>770000096010</td>\n",
       "      <td>Карман самокл. Комус/166549</td>\n",
       "      <td>RUB</td>\n",
       "      <td>1.0</td>\n",
       "      <td>Нагреватель ILL312CF Quintex</td>\n",
       "      <td>G2110</td>\n",
       "      <td>Кабели греющие</td>\n",
       "      <td>591</td>\n",
       "      <td>770000096010-G2110</td>\n",
       "      <td>7</td>\n",
       "      <td>1</td>\n",
       "      <td>14.285714</td>\n",
       "    </tr>\n",
       "    <tr>\n",
       "      <th>11798</th>\n",
       "      <td>32352</td>\n",
       "      <td>1.000007e+11</td>\n",
       "      <td>94990.0</td>\n",
       "      <td>87615.00</td>\n",
       "      <td>770000238597</td>\n",
       "      <td>Кабель ППГнг(А)-FRHF 3х1,5-1</td>\n",
       "      <td>RUB</td>\n",
       "      <td>1.0</td>\n",
       "      <td>Кабель ППГнг(А)-FRHF 3х1,5-1</td>\n",
       "      <td>G2170</td>\n",
       "      <td>ПРОДУКЦИЯ КАБЕЛЬНАЯ НЕ НОРМАЛИЗОВАННАЯ</td>\n",
       "      <td>591</td>\n",
       "      <td>770000238597-G2170</td>\n",
       "      <td>7</td>\n",
       "      <td>2</td>\n",
       "      <td>28.571429</td>\n",
       "    </tr>\n",
       "    <tr>\n",
       "      <th>11945</th>\n",
       "      <td>32725</td>\n",
       "      <td>1.000007e+11</td>\n",
       "      <td>94990.0</td>\n",
       "      <td>73507.50</td>\n",
       "      <td>770000246599</td>\n",
       "      <td>Кабель ППГнг(А)-HF 3х1,5 (N)-1</td>\n",
       "      <td>RUB</td>\n",
       "      <td>1.0</td>\n",
       "      <td>Кабель ППГнг(А)-HF 3х1,5 (N)-1</td>\n",
       "      <td>G2170</td>\n",
       "      <td>ПРОДУКЦИЯ КАБЕЛЬНАЯ НЕ НОРМАЛИЗОВАННАЯ</td>\n",
       "      <td>591</td>\n",
       "      <td>770000246599-G2170</td>\n",
       "      <td>7</td>\n",
       "      <td>2</td>\n",
       "      <td>28.571429</td>\n",
       "    </tr>\n",
       "  </tbody>\n",
       "</table>\n",
       "</div>"
      ],
      "text/plain": [
       "       Unnamed: 0        Лот ID  Кредитор  Сумма во ВВ      Материал  \\\n",
       "1               1  1.000005e+11   94293.0       567.00       1118280   \n",
       "2               4  1.000005e+11   94501.0       619.76       1118280   \n",
       "4               8  1.000006e+11   94293.0       640.30       1118280   \n",
       "11             22  1.000007e+11   87239.0         0.00       1121640   \n",
       "15             34  1.000007e+11   87239.0       141.00       1121640   \n",
       "16             37  1.000007e+11   87239.0       130.00       1121640   \n",
       "836          2262  1.000005e+11   91364.0      1950.00       1167016   \n",
       "6148        16909  1.000007e+11   93259.0     36900.00  770000082380   \n",
       "6542        17914  1.000007e+11   92855.0        66.95  770000096010   \n",
       "6543        17915  1.000007e+11   92855.0        65.57  770000096010   \n",
       "11798       32352  1.000007e+11   94990.0     87615.00  770000238597   \n",
       "11945       32725  1.000007e+11   94990.0     73507.50  770000246599   \n",
       "\n",
       "                                Краткий текст  Влт  Курс  \\\n",
       "1      Площадка самоклеящаяся Hyperline HW-3A  RUB   1.0   \n",
       "2      Площадка самоклеящаяся Hyperline HW-3A  RUB   1.0   \n",
       "4      Площадка самоклеящаяся Hyperline HW-3A  RUB   1.0   \n",
       "11                    Эмаль ПФ-115 желтая с.1  NaN   1.0   \n",
       "15                    Эмаль ПФ-115 желтая с.1  RUB   1.0   \n",
       "16                    Эмаль ПФ-115 желтая с.1  RUB   1.0   \n",
       "836           Очиститель Scotchcast 3M/4413-S  RUB   1.0   \n",
       "6148    Набор инструментов 158пр Hans/TK-158V  RUB   1.0   \n",
       "6542              Карман самокл. Комус/166549  RUB   1.0   \n",
       "6543              Карман самокл. Комус/166549  RUB   1.0   \n",
       "11798            Кабель ППГнг(А)-FRHF 3х1,5-1  RUB   1.0   \n",
       "11945          Кабель ППГнг(А)-HF 3х1,5 (N)-1  RUB   1.0   \n",
       "\n",
       "                      Краткий текст материала  Класс  \\\n",
       "1      Площадка самоклеящаяся Hyperline HW-3A  G2170   \n",
       "2      Площадка самоклеящаяся Hyperline HW-3A  G2170   \n",
       "4      Площадка самоклеящаяся Hyperline HW-3A  G2170   \n",
       "11                        Кабель КВВГ 7х1 б/у  G2160   \n",
       "15                        Кабель КВВГ 7х1 б/у  G2160   \n",
       "16                        Кабель КВВГ 7х1 б/у  G2160   \n",
       "836           Очиститель Scotchcast 3M/4413-S  G2170   \n",
       "6148   Кабель MIC5.K микрофонный RapcoHorizon  G2170   \n",
       "6542             Нагреватель ILL312CF Quintex  G2110   \n",
       "6543             Нагреватель ILL312CF Quintex  G2110   \n",
       "11798            Кабель ППГнг(А)-FRHF 3х1,5-1  G2170   \n",
       "11945          Кабель ППГнг(А)-HF 3х1,5 (N)-1  G2170   \n",
       "\n",
       "                                     Название  cluster      Материал_Класс  \\\n",
       "1      ПРОДУКЦИЯ КАБЕЛЬНАЯ НЕ НОРМАЛИЗОВАННАЯ      591       1118280-G2170   \n",
       "2      ПРОДУКЦИЯ КАБЕЛЬНАЯ НЕ НОРМАЛИЗОВАННАЯ      591       1118280-G2170   \n",
       "4      ПРОДУКЦИЯ КАБЕЛЬНАЯ НЕ НОРМАЛИЗОВАННАЯ      591       1118280-G2170   \n",
       "11                    Кабель б/у, провода б/у      591       1121640-G2160   \n",
       "15                    Кабель б/у, провода б/у      591       1121640-G2160   \n",
       "16                    Кабель б/у, провода б/у      591       1121640-G2160   \n",
       "836    ПРОДУКЦИЯ КАБЕЛЬНАЯ НЕ НОРМАЛИЗОВАННАЯ      591       1167016-G2170   \n",
       "6148   ПРОДУКЦИЯ КАБЕЛЬНАЯ НЕ НОРМАЛИЗОВАННАЯ      591  770000082380-G2170   \n",
       "6542                           Кабели греющие      591  770000096010-G2110   \n",
       "6543                           Кабели греющие      591  770000096010-G2110   \n",
       "11798  ПРОДУКЦИЯ КАБЕЛЬНАЯ НЕ НОРМАЛИЗОВАННАЯ      591  770000238597-G2170   \n",
       "11945  ПРОДУКЦИЯ КАБЕЛЬНАЯ НЕ НОРМАЛИЗОВАННАЯ      591  770000246599-G2170   \n",
       "\n",
       "       pairs_per_clust  pairs_by_cred   perc_cov  \n",
       "1                    7              1  14.285714  \n",
       "2                    7              1  14.285714  \n",
       "4                    7              1  14.285714  \n",
       "11                   7              1  14.285714  \n",
       "15                   7              1  14.285714  \n",
       "16                   7              1  14.285714  \n",
       "836                  7              1  14.285714  \n",
       "6148                 7              1  14.285714  \n",
       "6542                 7              1  14.285714  \n",
       "6543                 7              1  14.285714  \n",
       "11798                7              2  28.571429  \n",
       "11945                7              2  28.571429  "
      ]
     },
     "execution_count": 6,
     "metadata": {},
     "output_type": "execute_result"
    }
   ],
   "source": [
    "data[data['cluster'] == 591]"
   ]
  },
  {
   "cell_type": "code",
   "execution_count": 21,
   "metadata": {},
   "outputs": [
    {
     "name": "stderr",
     "output_type": "stream",
     "text": [
      "  2%|▏         | 1/49 [00:01<01:10,  1.46s/it]"
     ]
    },
    {
     "name": "stdout",
     "output_type": "stream",
     "text": [
      "MQ metric is: 0.9896415400021213\n",
      "MS metric is: 0.2734834960306909\n"
     ]
    },
    {
     "name": "stderr",
     "output_type": "stream",
     "text": [
      "  4%|▍         | 2/49 [00:04<01:57,  2.50s/it]"
     ]
    },
    {
     "name": "stdout",
     "output_type": "stream",
     "text": [
      "MQ metric is: 0.9792830800042427\n",
      "MS metric is: 0.4886583011583012\n"
     ]
    },
    {
     "name": "stderr",
     "output_type": "stream",
     "text": [
      "  6%|▌         | 3/49 [00:08<02:27,  3.21s/it]"
     ]
    },
    {
     "name": "stdout",
     "output_type": "stream",
     "text": [
      "MQ metric is: 0.9689246200063641\n",
      "MS metric is: 0.678047176298245\n"
     ]
    },
    {
     "name": "stderr",
     "output_type": "stream",
     "text": [
      "  8%|▊         | 4/49 [00:13<02:46,  3.70s/it]"
     ]
    },
    {
     "name": "stdout",
     "output_type": "stream",
     "text": [
      "MQ metric is: 0.9585661600084854\n",
      "MS metric is: 0.9772472216980664\n"
     ]
    },
    {
     "name": "stderr",
     "output_type": "stream",
     "text": [
      " 10%|█         | 5/49 [00:19<03:29,  4.75s/it]"
     ]
    },
    {
     "name": "stdout",
     "output_type": "stream",
     "text": [
      "MQ metric is: 0.9482077000106068\n",
      "MS metric is: 1.0473085484917002\n"
     ]
    },
    {
     "name": "stderr",
     "output_type": "stream",
     "text": [
      " 12%|█▏        | 6/49 [00:28<04:17,  5.99s/it]"
     ]
    },
    {
     "name": "stdout",
     "output_type": "stream",
     "text": [
      "MQ metric is: 0.9378492400127281\n",
      "MS metric is: 1.3529861547284199\n"
     ]
    },
    {
     "name": "stderr",
     "output_type": "stream",
     "text": [
      " 14%|█▍        | 7/49 [00:36<04:42,  6.72s/it]"
     ]
    },
    {
     "name": "stdout",
     "output_type": "stream",
     "text": [
      "MQ metric is: 0.9274907800148495\n",
      "MS metric is: 1.4770670214390091\n"
     ]
    },
    {
     "name": "stderr",
     "output_type": "stream",
     "text": [
      " 16%|█▋        | 8/49 [00:46<05:19,  7.80s/it]"
     ]
    },
    {
     "name": "stdout",
     "output_type": "stream",
     "text": [
      "MQ metric is: 0.9171323200169708\n",
      "MS metric is: 1.7152191668935477\n"
     ]
    },
    {
     "name": "stderr",
     "output_type": "stream",
     "text": [
      " 18%|█▊        | 9/49 [00:56<05:42,  8.57s/it]"
     ]
    },
    {
     "name": "stdout",
     "output_type": "stream",
     "text": [
      "MQ metric is: 0.9067738600190922\n",
      "MS metric is: 2.018130830361328\n"
     ]
    },
    {
     "name": "stderr",
     "output_type": "stream",
     "text": [
      " 20%|██        | 10/49 [01:08<06:06,  9.39s/it]"
     ]
    },
    {
     "name": "stdout",
     "output_type": "stream",
     "text": [
      "MQ metric is: 0.8964154000212136\n",
      "MS metric is: 2.185684198222723\n"
     ]
    },
    {
     "name": "stderr",
     "output_type": "stream",
     "text": [
      " 22%|██▏       | 11/49 [01:21<06:46, 10.70s/it]"
     ]
    },
    {
     "name": "stdout",
     "output_type": "stream",
     "text": [
      "MQ metric is: 0.8860569400233349\n",
      "MS metric is: 2.302933707925874\n"
     ]
    },
    {
     "name": "stderr",
     "output_type": "stream",
     "text": [
      " 24%|██▍       | 12/49 [01:38<07:48, 12.65s/it]"
     ]
    },
    {
     "name": "stdout",
     "output_type": "stream",
     "text": [
      "MQ metric is: 0.8756984800254562\n",
      "MS metric is: 2.4227376803722924\n"
     ]
    },
    {
     "name": "stderr",
     "output_type": "stream",
     "text": [
      " 27%|██▋       | 13/49 [01:55<08:14, 13.72s/it]"
     ]
    },
    {
     "name": "stdout",
     "output_type": "stream",
     "text": [
      "MQ metric is: 0.8653400200275776\n",
      "MS metric is: 2.6545846323974325\n"
     ]
    },
    {
     "name": "stderr",
     "output_type": "stream",
     "text": [
      " 29%|██▊       | 14/49 [02:11<08:31, 14.62s/it]"
     ]
    },
    {
     "name": "stdout",
     "output_type": "stream",
     "text": [
      "MQ metric is: 0.854981560029699\n",
      "MS metric is: 2.8927180910527737\n"
     ]
    },
    {
     "name": "stderr",
     "output_type": "stream",
     "text": [
      " 31%|███       | 15/49 [02:31<09:14, 16.31s/it]"
     ]
    },
    {
     "name": "stdout",
     "output_type": "stream",
     "text": [
      "MQ metric is: 0.8446231000318203\n",
      "MS metric is: 2.9764029147606306\n"
     ]
    },
    {
     "name": "stderr",
     "output_type": "stream",
     "text": [
      " 33%|███▎      | 16/49 [02:52<09:37, 17.49s/it]"
     ]
    },
    {
     "name": "stdout",
     "output_type": "stream",
     "text": [
      "MQ metric is: 0.8342646400339416\n",
      "MS metric is: 3.12386761408472\n"
     ]
    },
    {
     "name": "stderr",
     "output_type": "stream",
     "text": [
      " 35%|███▍      | 17/49 [03:13<10:00, 18.75s/it]"
     ]
    },
    {
     "name": "stdout",
     "output_type": "stream",
     "text": [
      "MQ metric is: 0.823906180036063\n",
      "MS metric is: 3.2528285622963455\n"
     ]
    },
    {
     "name": "stderr",
     "output_type": "stream",
     "text": [
      " 37%|███▋      | 18/49 [03:40<10:58, 21.26s/it]"
     ]
    },
    {
     "name": "stdout",
     "output_type": "stream",
     "text": [
      "MQ metric is: 0.8135477200381844\n",
      "MS metric is: 3.361001231536487\n"
     ]
    },
    {
     "name": "stderr",
     "output_type": "stream",
     "text": [
      " 39%|███▉      | 19/49 [04:03<10:50, 21.67s/it]"
     ]
    },
    {
     "name": "stdout",
     "output_type": "stream",
     "text": [
      "MQ metric is: 0.8031892600403058\n",
      "MS metric is: 3.526401596836324\n"
     ]
    },
    {
     "name": "stderr",
     "output_type": "stream",
     "text": [
      " 41%|████      | 20/49 [04:28<10:54, 22.57s/it]"
     ]
    },
    {
     "name": "stdout",
     "output_type": "stream",
     "text": [
      "MQ metric is: 0.7928308000424271\n",
      "MS metric is: 3.701077810004655\n"
     ]
    },
    {
     "name": "stderr",
     "output_type": "stream",
     "text": [
      " 43%|████▎     | 21/49 [04:56<11:19, 24.26s/it]"
     ]
    },
    {
     "name": "stdout",
     "output_type": "stream",
     "text": [
      "MQ metric is: 0.7824723400445485\n",
      "MS metric is: 3.7989975024794824\n"
     ]
    },
    {
     "name": "stderr",
     "output_type": "stream",
     "text": [
      " 45%|████▍     | 22/49 [05:24<11:28, 25.51s/it]"
     ]
    },
    {
     "name": "stdout",
     "output_type": "stream",
     "text": [
      "MQ metric is: 0.7721138800466698\n",
      "MS metric is: 3.9179739361074866\n"
     ]
    },
    {
     "name": "stderr",
     "output_type": "stream",
     "text": [
      " 47%|████▋     | 23/49 [05:55<11:45, 27.14s/it]"
     ]
    },
    {
     "name": "stdout",
     "output_type": "stream",
     "text": [
      "MQ metric is: 0.7617554200487912\n",
      "MS metric is: 4.11855149757552\n"
     ]
    },
    {
     "name": "stderr",
     "output_type": "stream",
     "text": [
      " 49%|████▉     | 24/49 [06:29<12:08, 29.12s/it]"
     ]
    },
    {
     "name": "stdout",
     "output_type": "stream",
     "text": [
      "MQ metric is: 0.7513969600509125\n",
      "MS metric is: 4.252872348296674\n"
     ]
    },
    {
     "name": "stderr",
     "output_type": "stream",
     "text": [
      " 51%|█████     | 25/49 [06:57<11:33, 28.89s/it]"
     ]
    },
    {
     "name": "stdout",
     "output_type": "stream",
     "text": [
      "MQ metric is: 0.741038500053034\n",
      "MS metric is: 4.385679300680855\n"
     ]
    },
    {
     "name": "stderr",
     "output_type": "stream",
     "text": [
      " 53%|█████▎    | 26/49 [07:28<11:13, 29.29s/it]"
     ]
    },
    {
     "name": "stdout",
     "output_type": "stream",
     "text": [
      "MQ metric is: 0.7306800400551552\n",
      "MS metric is: 4.46266806522361\n"
     ]
    },
    {
     "name": "stderr",
     "output_type": "stream",
     "text": [
      " 55%|█████▌    | 27/49 [07:58<10:53, 29.70s/it]"
     ]
    },
    {
     "name": "stdout",
     "output_type": "stream",
     "text": [
      "MQ metric is: 0.7203215800572765\n",
      "MS metric is: 4.526795807726883\n"
     ]
    },
    {
     "name": "stderr",
     "output_type": "stream",
     "text": [
      " 57%|█████▋    | 28/49 [08:33<10:55, 31.21s/it]"
     ]
    },
    {
     "name": "stdout",
     "output_type": "stream",
     "text": [
      "MQ metric is: 0.7099631200593979\n",
      "MS metric is: 4.622752386075345\n"
     ]
    },
    {
     "name": "stderr",
     "output_type": "stream",
     "text": [
      " 59%|█████▉    | 29/49 [09:16<11:34, 34.72s/it]"
     ]
    },
    {
     "name": "stdout",
     "output_type": "stream",
     "text": [
      "MQ metric is: 0.6996046600615193\n",
      "MS metric is: 4.688737531276795\n"
     ]
    },
    {
     "name": "stderr",
     "output_type": "stream",
     "text": [
      " 61%|██████    | 30/49 [09:50<10:55, 34.50s/it]"
     ]
    },
    {
     "name": "stdout",
     "output_type": "stream",
     "text": [
      "MQ metric is: 0.6892462000636406\n",
      "MS metric is: 4.7549840026352035\n"
     ]
    },
    {
     "name": "stderr",
     "output_type": "stream",
     "text": [
      " 63%|██████▎   | 31/49 [10:18<09:49, 32.72s/it]"
     ]
    },
    {
     "name": "stdout",
     "output_type": "stream",
     "text": [
      "MQ metric is: 0.678887740065762\n",
      "MS metric is: 4.843124406806573\n"
     ]
    },
    {
     "name": "stderr",
     "output_type": "stream",
     "text": [
      " 65%|██████▌   | 32/49 [10:46<08:50, 31.22s/it]"
     ]
    },
    {
     "name": "stdout",
     "output_type": "stream",
     "text": [
      "MQ metric is: 0.6685292800678834\n",
      "MS metric is: 4.919591171614334\n"
     ]
    },
    {
     "name": "stderr",
     "output_type": "stream",
     "text": [
      " 67%|██████▋   | 33/49 [11:14<08:02, 30.16s/it]"
     ]
    },
    {
     "name": "stdout",
     "output_type": "stream",
     "text": [
      "MQ metric is: 0.6581708200700047\n",
      "MS metric is: 5.022751644681082\n"
     ]
    },
    {
     "name": "stderr",
     "output_type": "stream",
     "text": [
      " 69%|██████▉   | 34/49 [11:44<07:31, 30.07s/it]"
     ]
    },
    {
     "name": "stdout",
     "output_type": "stream",
     "text": [
      "MQ metric is: 0.6478123600721261\n",
      "MS metric is: 5.176512162563795\n"
     ]
    },
    {
     "name": "stderr",
     "output_type": "stream",
     "text": [
      " 71%|███████▏  | 35/49 [12:15<07:06, 30.49s/it]"
     ]
    },
    {
     "name": "stdout",
     "output_type": "stream",
     "text": [
      "MQ metric is: 0.6374539000742474\n",
      "MS metric is: 5.316650653836844\n"
     ]
    },
    {
     "name": "stderr",
     "output_type": "stream",
     "text": [
      " 73%|███████▎  | 36/49 [12:46<06:38, 30.66s/it]"
     ]
    },
    {
     "name": "stdout",
     "output_type": "stream",
     "text": [
      "MQ metric is: 0.6270954400763689\n",
      "MS metric is: 5.399986579716484\n"
     ]
    },
    {
     "name": "stderr",
     "output_type": "stream",
     "text": [
      " 76%|███████▌  | 37/49 [13:16<06:05, 30.47s/it]"
     ]
    },
    {
     "name": "stdout",
     "output_type": "stream",
     "text": [
      "MQ metric is: 0.6167369800784901\n",
      "MS metric is: 5.444690357749248\n"
     ]
    },
    {
     "name": "stderr",
     "output_type": "stream",
     "text": [
      " 78%|███████▊  | 38/49 [13:51<05:48, 31.64s/it]"
     ]
    },
    {
     "name": "stdout",
     "output_type": "stream",
     "text": [
      "MQ metric is: 0.6063785200806115\n",
      "MS metric is: 5.53117622108232\n"
     ]
    },
    {
     "name": "stderr",
     "output_type": "stream",
     "text": [
      " 80%|███████▉  | 39/49 [14:23<05:17, 31.77s/it]"
     ]
    },
    {
     "name": "stdout",
     "output_type": "stream",
     "text": [
      "MQ metric is: 0.5960200600827328\n",
      "MS metric is: 5.601183095993116\n"
     ]
    },
    {
     "name": "stderr",
     "output_type": "stream",
     "text": [
      " 82%|████████▏ | 40/49 [15:01<05:02, 33.63s/it]"
     ]
    },
    {
     "name": "stdout",
     "output_type": "stream",
     "text": [
      "MQ metric is: 0.5856616000848542\n",
      "MS metric is: 5.665283675084348\n"
     ]
    },
    {
     "name": "stderr",
     "output_type": "stream",
     "text": [
      " 84%|████████▎ | 41/49 [15:37<04:34, 34.37s/it]"
     ]
    },
    {
     "name": "stdout",
     "output_type": "stream",
     "text": [
      "MQ metric is: 0.5753031400869755\n",
      "MS metric is: 5.776113815393653\n"
     ]
    },
    {
     "name": "stderr",
     "output_type": "stream",
     "text": [
      " 86%|████████▌ | 42/49 [16:12<04:02, 34.66s/it]"
     ]
    },
    {
     "name": "stdout",
     "output_type": "stream",
     "text": [
      "MQ metric is: 0.5649446800890969\n",
      "MS metric is: 5.851011104486533\n"
     ]
    },
    {
     "name": "stderr",
     "output_type": "stream",
     "text": [
      " 88%|████████▊ | 43/49 [16:48<03:30, 35.14s/it]"
     ]
    },
    {
     "name": "stdout",
     "output_type": "stream",
     "text": [
      "MQ metric is: 0.5545862200912183\n",
      "MS metric is: 5.866557870981089\n"
     ]
    },
    {
     "name": "stderr",
     "output_type": "stream",
     "text": [
      " 90%|████████▉ | 44/49 [17:30<03:05, 37.02s/it]"
     ]
    },
    {
     "name": "stdout",
     "output_type": "stream",
     "text": [
      "MQ metric is: 0.5442277600933396\n",
      "MS metric is: 5.945982469179785\n"
     ]
    },
    {
     "name": "stderr",
     "output_type": "stream",
     "text": [
      " 92%|█████████▏| 45/49 [18:09<02:30, 37.66s/it]"
     ]
    },
    {
     "name": "stdout",
     "output_type": "stream",
     "text": [
      "MQ metric is: 0.533869300095461\n",
      "MS metric is: 5.968451062335048\n"
     ]
    },
    {
     "name": "stderr",
     "output_type": "stream",
     "text": [
      " 94%|█████████▍| 46/49 [18:52<01:58, 39.37s/it]"
     ]
    },
    {
     "name": "stdout",
     "output_type": "stream",
     "text": [
      "MQ metric is: 0.5235108400975823\n",
      "MS metric is: 6.029547914468918\n"
     ]
    },
    {
     "name": "stderr",
     "output_type": "stream",
     "text": [
      " 96%|█████████▌| 47/49 [19:42<01:24, 42.32s/it]"
     ]
    },
    {
     "name": "stdout",
     "output_type": "stream",
     "text": [
      "MQ metric is: 0.5131523800997038\n",
      "MS metric is: 6.090010306476722\n"
     ]
    },
    {
     "name": "stderr",
     "output_type": "stream",
     "text": [
      " 98%|█████████▊| 48/49 [20:32<00:44, 44.74s/it]"
     ]
    },
    {
     "name": "stdout",
     "output_type": "stream",
     "text": [
      "MQ metric is: 0.502793920101825\n",
      "MS metric is: 6.164880938133228\n"
     ]
    },
    {
     "name": "stderr",
     "output_type": "stream",
     "text": [
      "100%|██████████| 49/49 [21:16<00:00, 26.05s/it]"
     ]
    },
    {
     "name": "stdout",
     "output_type": "stream",
     "text": [
      "MQ metric is: 0.4924354601039464\n",
      "MS metric is: 6.2130951057035375\n"
     ]
    },
    {
     "name": "stderr",
     "output_type": "stream",
     "text": [
      "\n"
     ]
    }
   ],
   "source": [
    "import tqdm\n",
    "from tqdm import trange\n",
    "\n",
    "file_path = 'processed_Исторические_данные_по_офертам_поставщиков_на_лот.csv'\n",
    "data = pd.read_csv(file_path)\n",
    "\n",
    "manual_lot_count = 4996\n",
    "manual_avg_price = 910874\n",
    "\n",
    "# Step 1: Preprocess the data\n",
    "label_encoder = LabelEncoder()\n",
    "data_preprocessed = pd.DataFrame()\n",
    "# If there are categorical variables, you might want to one-hot encode them\n",
    "# data_preprocessed = pd.get_dummies(data, columns=['Материал', 'Класс', 'Кредитор'], drop_first=True)\n",
    "data_preprocessed['Материал'] = label_encoder.fit_transform(data['Материал'])\n",
    "data_preprocessed['Класс'] = label_encoder.fit_transform(data['Класс'])\n",
    "data_preprocessed['Кредитор'] = label_encoder.fit_transform(data['Кредитор'])\n",
    "data_preprocessed['price'] = data['Сумма во ВВ'].copy()\n",
    "\n",
    "# Standardize the data to have a mean of 0 and variance of 1\n",
    "scaler = StandardScaler()\n",
    "data_scaled = scaler.fit_transform(data_preprocessed)\n",
    "\n",
    "MQ_max = 0.5\n",
    "index = 0\n",
    "for k in trange(100, manual_lot_count, 100):\n",
    "\n",
    "    kmeans = KMeans(n_clusters=k, random_state=42)\n",
    "    data['cluster'] = kmeans.fit_predict(data_scaled)\n",
    "\n",
    "    # data['Материал_Класс'] = data['Материал'].astype(str) + '-' + data['Класс'].astype(str)\n",
    "    data['Материал_Класс'] = data['Класс'].astype(str)\n",
    "\n",
    "    # Step 2: Add a column for the number of unique \"Материал_Класс\" pairs in each cluster\n",
    "    data['pairs_per_clust'] = data.groupby('cluster')['Материал_Класс'].transform('nunique')\n",
    "\n",
    "    # Step 3: Add a column to count the number of unique \"Материал_Класс\" pairs covered by each creditor in each cluster\n",
    "    data['pairs_by_cred'] = data.groupby(['Кредитор', 'cluster'])['Материал_Класс'].transform('nunique')\n",
    "\n",
    "    # Step 4: Calculate the percentage of pairs each creditor covers in each cluster\n",
    "    data['perc_cov'] = (data['pairs_by_cred'] / data['pairs_per_clust']) * 100\n",
    "\n",
    "    def categorize_coverage(percentage):\n",
    "        if 80 > percentage >= 50:\n",
    "            return '≥ 50%'\n",
    "        elif 100 > percentage >= 80:\n",
    "            return '≥ 80%'\n",
    "        elif percentage == 100:\n",
    "            return '100%'\n",
    "\n",
    "    data['cov_cat'] = data['perc_cov'].apply(categorize_coverage)\n",
    "\n",
    "    # Group by cluster and calculate the number of creditors in each category\n",
    "    creditor_counts_by_category = data.groupby(['cluster', 'cov_cat'])['Кредитор'].nunique().reset_index()\n",
    "    cred_count = data.groupby(['cluster', 'cov_cat'])['Кредитор'].transform('nunique')\n",
    "    data['num_creditors'] = cred_count\n",
    "    creditor_counts_by_category.columns = ['cluster', 'cov_cat', 'num_creditors']\n",
    "    avg_creditors_per_category = creditor_counts_by_category.groupby('cov_cat')['num_creditors'].mean().reset_index()\n",
    "\n",
    "    average_creditors_le_50 = avg_creditors_per_category.loc[\n",
    "        (avg_creditors_per_category['cov_cat'] == '≥ 50%') | \n",
    "        (avg_creditors_per_category['cov_cat'] == '≥ 80%') | \n",
    "        (avg_creditors_per_category['cov_cat'] == '100%'), \n",
    "        'num_creditors'\n",
    "        ].values[0]\n",
    "    average_creditors_50_to_80 = avg_creditors_per_category.loc[\n",
    "        (avg_creditors_per_category['cov_cat'] == '≥ 80%') |\n",
    "        (avg_creditors_per_category['cov_cat'] == '100%'),\n",
    "        'num_creditors'\n",
    "        ].values[0]\n",
    "    average_creditors_ge_80 = avg_creditors_per_category.loc[avg_creditors_per_category['cov_cat'] == '100%', 'num_creditors'].values[0]\n",
    "    average_creditors_per_lot = data.groupby('cluster')['Кредитор'].nunique().mean()\n",
    "\n",
    "    num_lots = data['cluster'].nunique()\n",
    "    average_price_per_lot = data.groupby('cluster')['Сумма во ВВ'].sum().mean()\n",
    "\n",
    "    MQ = 0.5 * ((1 - num_lots / manual_lot_count) + (1 - manual_avg_price / average_price_per_lot))\n",
    "\n",
    "    MS = (2 * average_creditors_le_50 + 3 * average_creditors_50_to_80 + 4 * average_creditors_ge_80) / average_creditors_per_lot\n",
    "\n",
    "    print(f\"MQ metric is: {MQ}\")\n",
    "    print(f\"MS metric is: {MS}\")\n"
   ]
  },
  {
   "cell_type": "code",
   "execution_count": 22,
   "metadata": {},
   "outputs": [
    {
     "name": "stdout",
     "output_type": "stream",
     "text": [
      "MQ metric is: 0.6581708200700047\n",
      "MS metric is: 5.022751644681082\n"
     ]
    }
   ],
   "source": [
    "k = 3300\n",
    "\n",
    "kmeans = KMeans(n_clusters=k, random_state=42)\n",
    "data['cluster'] = kmeans.fit_predict(data_scaled)\n",
    "\n",
    "# data['Материал_Класс'] = data['Материал'].astype(str) + '-' + data['Класс'].astype(str)\n",
    "data['Материал_Класс'] = data['Класс'].astype(str)\n",
    "\n",
    "# Step 2: Add a column for the number of unique \"Материал_Класс\" pairs in each cluster\n",
    "data['pairs_per_clust'] = data.groupby('cluster')['Материал_Класс'].transform('nunique')\n",
    "\n",
    "# Step 3: Add a column to count the number of unique \"Материал_Класс\" pairs covered by each creditor in each cluster\n",
    "data['pairs_by_cred'] = data.groupby(['Кредитор', 'cluster'])['Материал_Класс'].transform('nunique')\n",
    "\n",
    "# Step 4: Calculate the percentage of pairs each creditor covers in each cluster\n",
    "data['perc_cov'] = (data['pairs_by_cred'] / data['pairs_per_clust']) * 100\n",
    "\n",
    "def categorize_coverage(percentage):\n",
    "    if 80 > percentage >= 50:\n",
    "        return '≥ 50%'\n",
    "    elif 100 > percentage >= 80:\n",
    "        return '≥ 80%'\n",
    "    elif percentage == 100:\n",
    "        return '100%'\n",
    "\n",
    "data['cov_cat'] = data['perc_cov'].apply(categorize_coverage)\n",
    "\n",
    "# Group by cluster and calculate the number of creditors in each category\n",
    "creditor_counts_by_category = data.groupby(['cluster', 'cov_cat'])['Кредитор'].nunique().reset_index()\n",
    "cred_count = data.groupby(['cluster', 'cov_cat'])['Кредитор'].transform('nunique')\n",
    "data['num_creditors'] = cred_count\n",
    "creditor_counts_by_category.columns = ['cluster', 'cov_cat', 'num_creditors']\n",
    "avg_creditors_per_category = creditor_counts_by_category.groupby('cov_cat')['num_creditors'].mean().reset_index()\n",
    "\n",
    "average_creditors_le_50 = avg_creditors_per_category.loc[\n",
    "    (avg_creditors_per_category['cov_cat'] == '≥ 50%') | \n",
    "    (avg_creditors_per_category['cov_cat'] == '≥ 80%') | \n",
    "    (avg_creditors_per_category['cov_cat'] == '100%'), \n",
    "    'num_creditors'\n",
    "    ].values[0]\n",
    "average_creditors_50_to_80 = avg_creditors_per_category.loc[\n",
    "    (avg_creditors_per_category['cov_cat'] == '≥ 80%') |\n",
    "    (avg_creditors_per_category['cov_cat'] == '100%'),\n",
    "    'num_creditors'\n",
    "    ].values[0]\n",
    "average_creditors_ge_80 = avg_creditors_per_category.loc[avg_creditors_per_category['cov_cat'] == '100%', 'num_creditors'].values[0]\n",
    "average_creditors_per_lot = data.groupby('cluster')['Кредитор'].nunique().mean()\n",
    "\n",
    "num_lots = data['cluster'].nunique()\n",
    "average_price_per_lot = data.groupby('cluster')['Сумма во ВВ'].sum().mean()\n",
    "\n",
    "MQ = 0.5 * ((1 - num_lots / manual_lot_count) + (1 - manual_avg_price / average_price_per_lot))\n",
    "\n",
    "MS = (2 * average_creditors_le_50 + 3 * average_creditors_50_to_80 + 4 * average_creditors_ge_80) / average_creditors_per_lot\n",
    "\n",
    "print(f\"MQ metric is: {MQ}\")\n",
    "print(f\"MS metric is: {MS}\")"
   ]
  },
  {
   "cell_type": "code",
   "execution_count": null,
   "metadata": {},
   "outputs": [],
   "source": []
  }
 ],
 "metadata": {
  "kernelspec": {
   "display_name": "tqml",
   "language": "python",
   "name": "python3"
  },
  "language_info": {
   "codemirror_mode": {
    "name": "ipython",
    "version": 3
   },
   "file_extension": ".py",
   "mimetype": "text/x-python",
   "name": "python",
   "nbconvert_exporter": "python",
   "pygments_lexer": "ipython3",
   "version": "3.9.19"
  }
 },
 "nbformat": 4,
 "nbformat_minor": 2
}
